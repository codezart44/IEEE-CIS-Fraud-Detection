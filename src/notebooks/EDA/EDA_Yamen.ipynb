{
 "cells": [
  {
   "cell_type": "markdown",
   "metadata": {},
   "source": [
    "#### Imports & loading the row data\n",
    "---"
   ]
  },
  {
   "cell_type": "code",
   "execution_count": 24,
   "metadata": {},
   "outputs": [],
   "source": [
    "import numpy as np\n",
    "import pandas as pd\n",
    "import matplotlib.pyplot as plt\n",
    "import seaborn as sns\n",
    "\n",
    "# Define ANSI escape codes for colors\n",
    "color_red = '\\033[31m'\n",
    "color_green = '\\033[32m'\n",
    "color_yellow = '\\033[33m'\n",
    "color_blue = '\\033[34m'\n",
    "color_magenta = '\\033[35m'\n",
    "color_cyan = '\\033[36m'\n",
    "color_reset = '\\033[0m'  # Reset color to default\n",
    "\n",
    "df_train_identity = pd.read_csv(r\"C:\\Users\\yamen\\OneDrive\\Desktop\\DA151X KEX-arbete for DATA\\kaggle\\ieee-fraud-detection\\train_identity.csv\")\n",
    "df_train_transaction = pd.read_csv(r'C:\\Users\\yamen\\OneDrive\\Desktop\\DA151X KEX-arbete for DATA\\kaggle\\ieee-fraud-detection\\train_transaction.csv')"
   ]
  },
  {
   "cell_type": "markdown",
   "metadata": {},
   "source": [
    "# Overview of Data - identity\n",
    "---"
   ]
  },
  {
   "cell_type": "code",
   "execution_count": null,
   "metadata": {},
   "outputs": [],
   "source": [
    "# Display the first few rows\n",
    "print(df_train_identity.head())"
   ]
  },
  {
   "cell_type": "code",
   "execution_count": null,
   "metadata": {},
   "outputs": [],
   "source": [
    "# Get information about the dataset\n",
    "print(df_train_identity.info())"
   ]
  },
  {
   "cell_type": "code",
   "execution_count": null,
   "metadata": {},
   "outputs": [],
   "source": [
    "# Summary statistics\n",
    "print(df_train_identity.describe())"
   ]
  },
  {
   "cell_type": "code",
   "execution_count": null,
   "metadata": {},
   "outputs": [],
   "source": [
    "df_train_identity['DeviceInfo'].value_counts()"
   ]
  },
  {
   "cell_type": "code",
   "execution_count": null,
   "metadata": {},
   "outputs": [],
   "source": [
    "for col in df_train_identity.columns:\n",
    "    values = df_train_identity[col]\n",
    "    num_uniques = values.nunique()\n",
    "    \n",
    "    # Data type of the column\n",
    "    data_type = values.dtype\n",
    "    \n",
    "    # Number of NaN values\n",
    "    num_nan = values.isnull().sum()\n",
    "    \n",
    "    # Number of non-NaN values\n",
    "    num_non_nan = values.count()\n",
    "    \n",
    "    # Ratio of NaN values\n",
    "    if num_non_nan > 0:\n",
    "        nan_ratio = num_nan / (num_nan + num_non_nan)\n",
    "    else:\n",
    "        nan_ratio = np.nan\n",
    "    \n",
    "    print(color_cyan + f'Column: {col}' + color_reset)\n",
    "    print(color_yellow + f'Data Type: {data_type}'+ color_reset)\n",
    "    print(color_magenta+ f'Number of Unique Values: {num_uniques}'+ color_reset)\n",
    "    print(color_red+ f'Number of NaN Values: {num_nan}'+ color_reset)\n",
    "    print(color_green+ f'Number of Non-NaN Values: {num_non_nan}'+ color_reset)\n",
    "    print(color_blue+ f'Ratio of NaN Values: {nan_ratio:.4f}\\n'+ color_reset)\n",
    "    \n",
    "    print(f'Unique Values:')\n",
    "    print(values.unique())\n",
    "    \n",
    "    # Plotting example (optional)\n",
    "    if num_uniques <= 10:  # Plot only if number of unique values is reasonable\n",
    "        plt.figure(figsize=(8, 4))\n",
    "        if pd.api.types.is_numeric_dtype(values):\n",
    "            sns.histplot(values.dropna(), bins=20, kde=True)\n",
    "            plt.title(f'Histogram of {col}')\n",
    "            plt.xlabel(col)\n",
    "            plt.ylabel('Frequency')\n",
    "        else:\n",
    "            value_counts = values.value_counts() \n",
    "            sns.barplot(x=value_counts.index, y=value_counts.values)\n",
    "            plt.title(f'Bar plot of {col}')\n",
    "            plt.xlabel(col)\n",
    "            plt.ylabel('Count')\n",
    "            plt.xticks(rotation=45)\n",
    "        plt.show()\n",
    "    print('\\n --------------------------------------------NEXT FEATURE---------------------------------------------\\n')"
   ]
  },
  {
   "cell_type": "markdown",
   "metadata": {},
   "source": [
    "# Overview of Data - transaction\n",
    "\n",
    "---"
   ]
  },
  {
   "cell_type": "code",
   "execution_count": 56,
   "metadata": {},
   "outputs": [
    {
     "name": "stdout",
     "output_type": "stream",
     "text": [
      "13490\n"
     ]
    }
   ],
   "source": [
    "client_history = df_train_transaction.groupby(['card1', 'card2']).agg(\"first\").reset_index()\n",
    "print(client_history.shape[0])\n",
    "#print(client_history)"
   ]
  },
  {
   "cell_type": "code",
   "execution_count": null,
   "metadata": {},
   "outputs": [],
   "source": [
    "for col in df_train_transaction.columns:\n",
    "    print(f'Column: {col}')"
   ]
  },
  {
   "cell_type": "code",
   "execution_count": null,
   "metadata": {},
   "outputs": [],
   "source": [
    "print(client_history.shape[0])\n",
    "#print(client_history)"
   ]
  },
  {
   "cell_type": "code",
   "execution_count": null,
   "metadata": {},
   "outputs": [],
   "source": [
    "# Display the first few rows\n",
    "print(df_train_transaction.head())\n",
    "# Get information about the dataset\n",
    "print(df_train_transaction.info())\n",
    "# Summary statistics\n",
    "print(df_train_transaction.describe())"
   ]
  },
  {
   "cell_type": "code",
   "execution_count": null,
   "metadata": {},
   "outputs": [],
   "source": [
    "for col in df_train_transaction.columns:\n",
    "    values = df_train_transaction[col]\n",
    "    num_uniques = values.nunique()\n",
    "    \n",
    "    # Data type of the column\n",
    "    data_type = values.dtype\n",
    "    \n",
    "    # Number of NaN values\n",
    "    num_nan = values.isnull().sum()\n",
    "    \n",
    "    # Number of non-NaN values\n",
    "    num_non_nan = values.count()\n",
    "    \n",
    "    # Ratio of NaN values\n",
    "    if num_non_nan > 0:\n",
    "        nan_ratio = num_nan / (num_nan + num_non_nan)\n",
    "    else:\n",
    "        nan_ratio = np.nan\n",
    "    \n",
    "    print(color_cyan + f'Column: {col}' + color_reset)\n",
    "    print(color_yellow + f'Data Type: {data_type}'+ color_reset)\n",
    "    print(color_magenta+ f'Number of Unique Values: {num_uniques}'+ color_reset)\n",
    "    print(color_red+ f'Number of NaN Values: {num_nan}'+ color_reset)\n",
    "    print(color_green+ f'Number of Non-NaN Values: {num_non_nan}'+ color_reset)\n",
    "    print(color_blue+ f'Ratio of NaN Values: {nan_ratio:.4f}\\n'+ color_reset)\n",
    "    \n",
    "    print(f'Unique Values:')\n",
    "    print(values.unique())\n",
    "    \n",
    "    # Plotting example (optional)\n",
    "    if num_uniques <= 10:  # Plot only if number of unique values is reasonable\n",
    "        plt.figure(figsize=(8, 4))\n",
    "        if pd.api.types.is_numeric_dtype(values):\n",
    "            sns.histplot(values.dropna(), bins=20, kde=True)\n",
    "            plt.title(f'Histogram of {col}')\n",
    "            plt.xlabel(col)\n",
    "            plt.ylabel('Frequency')\n",
    "        else:\n",
    "            value_counts = values.value_counts()\n",
    "            sns.barplot(x=value_counts.index, y=value_counts.values)\n",
    "            plt.title(f'Bar plot of {col}')\n",
    "            plt.xlabel(col)\n",
    "            plt.ylabel('Count')\n",
    "            plt.xticks(rotation=45)\n",
    "        plt.show()\n",
    "    print('\\n --------------------------------------------NEXT FEATURE---------------------------------------------\\n')"
   ]
  }
 ],
 "metadata": {
  "kernelspec": {
   "display_name": ".venv",
   "language": "python",
   "name": "python3"
  },
  "language_info": {
   "codemirror_mode": {
    "name": "ipython",
    "version": 3
   },
   "file_extension": ".py",
   "mimetype": "text/x-python",
   "name": "python",
   "nbconvert_exporter": "python",
   "pygments_lexer": "ipython3",
   "version": "3.12.1"
  }
 },
 "nbformat": 4,
 "nbformat_minor": 2
}

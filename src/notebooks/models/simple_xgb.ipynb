{
 "cells": [
  {
   "cell_type": "code",
   "execution_count": 1,
   "metadata": {},
   "outputs": [
    {
     "name": "stderr",
     "output_type": "stream",
     "text": [
      "/var/folders/69/s6p755q576qb2bbk9bc__tr40000gn/T/ipykernel_1159/3635397593.py:2: DeprecationWarning: \n",
      "Pyarrow will become a required dependency of pandas in the next major release of pandas (pandas 3.0),\n",
      "(to allow more performant data types, such as the Arrow string type, and better interoperability with other libraries)\n",
      "but was not found to be installed on your system.\n",
      "If this would cause problems for you,\n",
      "please provide us feedback at https://github.com/pandas-dev/pandas/issues/54466\n",
      "        \n",
      "  import pandas as pd\n"
     ]
    }
   ],
   "source": [
    "import numpy as np\n",
    "import pandas as pd\n",
    "import matplotlib.pyplot as plt\n",
    "import seaborn as sns\n",
    "\n",
    "import xgboost as xgb\n",
    "# from sklearn.preprocessing import StandardScaler\n",
    "from sklearn.preprocessing import RobustScaler      # better for heavy outliers\n",
    "from sklearn.decomposition import PCA\n",
    "from sklearn.model_selection import StratifiedKFold\n",
    "from sklearn.metrics import classification_report, roc_auc_score\n"
   ]
  },
  {
   "cell_type": "code",
   "execution_count": 2,
   "metadata": {},
   "outputs": [],
   "source": [
    "# import transaction train data\n",
    "train_trns = pd.read_csv('/Users/oskarwallberg/desktop/kaggle-datasets/ieee-fraud-detection/train_transaction.csv')"
   ]
  },
  {
   "cell_type": "code",
   "execution_count": 3,
   "metadata": {},
   "outputs": [
    {
     "data": {
      "text/plain": [
       "(590540, 394)"
      ]
     },
     "execution_count": 3,
     "metadata": {},
     "output_type": "execute_result"
    }
   ],
   "source": [
    "V_COLS = ['V'+str(n) for n in range(1, 340)]\n",
    "train_trns\n",
    "train_trns.shape"
   ]
  },
  {
   "cell_type": "code",
   "execution_count": 4,
   "metadata": {},
   "outputs": [
    {
     "data": {
      "text/plain": [
       "(590540, 339)"
      ]
     },
     "execution_count": 4,
     "metadata": {},
     "output_type": "execute_result"
    }
   ],
   "source": [
    "df_vesta = train_trns[V_COLS].copy()\n",
    "df_vesta.shape"
   ]
  },
  {
   "cell_type": "code",
   "execution_count": 5,
   "metadata": {},
   "outputs": [
    {
     "data": {
      "text/plain": [
       "False"
      ]
     },
     "execution_count": 5,
     "metadata": {},
     "output_type": "execute_result"
    }
   ],
   "source": [
    "df_vesta = df_vesta.fillna(0)\n",
    "df_vesta.isna().any().any()"
   ]
  },
  {
   "cell_type": "code",
   "execution_count": 6,
   "metadata": {},
   "outputs": [],
   "source": [
    "pca = PCA(n_components=20)"
   ]
  },
  {
   "cell_type": "code",
   "execution_count": 7,
   "metadata": {},
   "outputs": [],
   "source": [
    "# df_vesta_pca = pd.DataFrame(data=pca.fit_transform(X=df_vesta))\n",
    "# df_vesta_pca.shape"
   ]
  },
  {
   "cell_type": "code",
   "execution_count": 8,
   "metadata": {},
   "outputs": [],
   "source": [
    "# np.cumsum(pca.explained_variance_ratio_)"
   ]
  },
  {
   "cell_type": "code",
   "execution_count": 9,
   "metadata": {},
   "outputs": [
    {
     "data": {
      "text/plain": [
       "False"
      ]
     },
     "execution_count": 9,
     "metadata": {},
     "output_type": "execute_result"
    }
   ],
   "source": [
    "TARGET_FEATURE = 'isFraud'\n",
    "train_trns[TARGET_FEATURE].isna().any()"
   ]
  },
  {
   "cell_type": "code",
   "execution_count": 10,
   "metadata": {},
   "outputs": [
    {
     "data": {
      "text/plain": [
       "((590540, 339), (590540,))"
      ]
     },
     "execution_count": 10,
     "metadata": {},
     "output_type": "execute_result"
    }
   ],
   "source": [
    "X = df_vesta\n",
    "y = train_trns[TARGET_FEATURE]\n",
    "X.shape, y.shape"
   ]
  },
  {
   "cell_type": "code",
   "execution_count": 11,
   "metadata": {},
   "outputs": [
    {
     "data": {
      "text/plain": [
       "28.579586700866283"
      ]
     },
     "execution_count": 11,
     "metadata": {},
     "output_type": "execute_result"
    }
   ],
   "source": [
    "train_trns.shape[0] / train_trns['isFraud'].sum()"
   ]
  },
  {
   "cell_type": "code",
   "execution_count": 12,
   "metadata": {},
   "outputs": [],
   "source": [
    "rb = RobustScaler(with_centering=True, with_scaling=True)\n",
    "\n",
    "xgbclf = xgb.XGBClassifier(\n",
    "    objective='binary:logistic',\n",
    "    n_estimators=100,\n",
    "    learning_rate=0.1,\n",
    "    scale_pos_weight=4, # <- for class imbalance\n",
    ")\n",
    "\n",
    "N_FOLDS = 5\n",
    "skf = StratifiedKFold(n_splits=N_FOLDS, shuffle=True)"
   ]
  },
  {
   "cell_type": "code",
   "execution_count": 13,
   "metadata": {},
   "outputs": [
    {
     "name": "stdout",
     "output_type": "stream",
     "text": [
      "Fold 1/5\n",
      "              precision    recall  f1-score   support\n",
      "\n",
      "           0       0.98      0.99      0.99    113976\n",
      "           1       0.68      0.41      0.51      4132\n",
      "\n",
      "    accuracy                           0.97    118108\n",
      "   macro avg       0.83      0.70      0.75    118108\n",
      "weighted avg       0.97      0.97      0.97    118108\n",
      "\n",
      "ROC-AUC score: 0.8648530972468789\n",
      "Fold 2/5\n",
      "              precision    recall  f1-score   support\n",
      "\n",
      "           0       0.98      0.99      0.99    113976\n",
      "           1       0.68      0.42      0.52      4132\n",
      "\n",
      "    accuracy                           0.97    118108\n",
      "   macro avg       0.83      0.71      0.75    118108\n",
      "weighted avg       0.97      0.97      0.97    118108\n",
      "\n",
      "ROC-AUC score: 0.8615284855404418\n",
      "Fold 3/5\n",
      "              precision    recall  f1-score   support\n",
      "\n",
      "           0       0.98      0.99      0.99    113975\n",
      "           1       0.70      0.43      0.53      4133\n",
      "\n",
      "    accuracy                           0.97    118108\n",
      "   macro avg       0.84      0.71      0.76    118108\n",
      "weighted avg       0.97      0.97      0.97    118108\n",
      "\n",
      "ROC-AUC score: 0.8679873648436685\n",
      "Fold 4/5\n",
      "              precision    recall  f1-score   support\n",
      "\n",
      "           0       0.98      0.99      0.99    113975\n",
      "           1       0.67      0.42      0.52      4133\n",
      "\n",
      "    accuracy                           0.97    118108\n",
      "   macro avg       0.83      0.71      0.75    118108\n",
      "weighted avg       0.97      0.97      0.97    118108\n",
      "\n",
      "ROC-AUC score: 0.8691551631014969\n",
      "Fold 5/5\n",
      "              precision    recall  f1-score   support\n",
      "\n",
      "           0       0.98      0.99      0.99    113975\n",
      "           1       0.67      0.40      0.50      4133\n",
      "\n",
      "    accuracy                           0.97    118108\n",
      "   macro avg       0.83      0.70      0.74    118108\n",
      "weighted avg       0.97      0.97      0.97    118108\n",
      "\n",
      "ROC-AUC score: 0.8633281798705862\n"
     ]
    }
   ],
   "source": [
    "scores = np.zeros(N_FOLDS)\n",
    "\n",
    "# NOTE about 0.7% of values are flagged as fraudulent per fold\n",
    "for i, (train_idx, val_idx) in enumerate(skf.split(X=X, y=y)):\n",
    "    X_train, X_val = X.iloc[train_idx], X.iloc[val_idx]\n",
    "    y_train, y_val = y.iloc[train_idx], y.iloc[val_idx]\n",
    "\n",
    "    X_train_sc = rb.fit_transform(X=X_train)\n",
    "    X_val_sc = rb.transform(X=X_val)\n",
    "\n",
    "    xgbclf.fit(X=X_train_sc, y=y_train, ) # eval_set=[(X_val_sc, y_val)]\n",
    "    y_pred = xgbclf.predict(X=X_val_sc)\n",
    "    y_score: np.ndarray = xgbclf.predict_proba(X=X_val_sc)[:, 1]\n",
    "    \n",
    "    print(f'Fold {i+1}/{N_FOLDS}')\n",
    "    print(classification_report(y_true=y_val, y_pred=y_pred))\n",
    "    print(f'ROC-AUC score: {roc_auc_score(y_true=y_val, y_score=y_score)}')"
   ]
  },
  {
   "cell_type": "code",
   "execution_count": 18,
   "metadata": {},
   "outputs": [
    {
     "data": {
      "text/plain": [
       "0.5"
      ]
     },
     "execution_count": 18,
     "metadata": {},
     "output_type": "execute_result"
    }
   ],
   "source": [
    "roc_auc_score(y_true=y, y_score=0.7*np.ones(y.shape[0]))"
   ]
  },
  {
   "cell_type": "code",
   "execution_count": null,
   "metadata": {},
   "outputs": [],
   "source": []
  }
 ],
 "metadata": {
  "kernelspec": {
   "display_name": ".venv",
   "language": "python",
   "name": "python3"
  },
  "language_info": {
   "codemirror_mode": {
    "name": "ipython",
    "version": 3
   },
   "file_extension": ".py",
   "mimetype": "text/x-python",
   "name": "python",
   "nbconvert_exporter": "python",
   "pygments_lexer": "ipython3",
   "version": "3.10.4"
  }
 },
 "nbformat": 4,
 "nbformat_minor": 2
}
